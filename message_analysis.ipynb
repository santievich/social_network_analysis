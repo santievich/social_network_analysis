{
 "cells": [
  {
   "cell_type": "code",
   "execution_count": 1,
   "id": "94af7848",
   "metadata": {},
   "outputs": [],
   "source": [
    "import pandas as pd"
   ]
  },
  {
   "cell_type": "code",
   "execution_count": 20,
   "id": "0b04d881",
   "metadata": {},
   "outputs": [],
   "source": [
    "def get_messages_user(ix):\n",
    "    for m in messages[messages.index==ix]['content'].iloc[0].split('\\''):\n",
    "        if len(m)>10:\n",
    "            print(m.replace('\\\\n', ''), end = '\\n\\n\\n')\n",
    "\n",
    "sent = pd.read_csv('sentiment_data.csv', index_col = 0)\n",
    "messages = pd.read_csv('messages.csv', index_col = 0)"
   ]
  },
  {
   "cell_type": "code",
   "execution_count": 21,
   "id": "f05e7c6d",
   "metadata": {},
   "outputs": [
    {
     "data": {
      "text/html": [
       "<div>\n",
       "<style scoped>\n",
       "    .dataframe tbody tr th:only-of-type {\n",
       "        vertical-align: middle;\n",
       "    }\n",
       "\n",
       "    .dataframe tbody tr th {\n",
       "        vertical-align: top;\n",
       "    }\n",
       "\n",
       "    .dataframe thead th {\n",
       "        text-align: right;\n",
       "    }\n",
       "</style>\n",
       "<table border=\"1\" class=\"dataframe\">\n",
       "  <thead>\n",
       "    <tr style=\"text-align: right;\">\n",
       "      <th></th>\n",
       "      <th>sentiment</th>\n",
       "    </tr>\n",
       "  </thead>\n",
       "  <tbody>\n",
       "    <tr>\n",
       "      <th>193667877</th>\n",
       "      <td>-0.498069</td>\n",
       "    </tr>\n",
       "    <tr>\n",
       "      <th>243113019</th>\n",
       "      <td>-0.466476</td>\n",
       "    </tr>\n",
       "    <tr>\n",
       "      <th>584335134</th>\n",
       "      <td>-0.391773</td>\n",
       "    </tr>\n",
       "    <tr>\n",
       "      <th>210620812</th>\n",
       "      <td>-0.313917</td>\n",
       "    </tr>\n",
       "    <tr>\n",
       "      <th>216611278</th>\n",
       "      <td>-0.309569</td>\n",
       "    </tr>\n",
       "    <tr>\n",
       "      <th>...</th>\n",
       "      <td>...</td>\n",
       "    </tr>\n",
       "    <tr>\n",
       "      <th>200256782</th>\n",
       "      <td>0.341972</td>\n",
       "    </tr>\n",
       "    <tr>\n",
       "      <th>39797359</th>\n",
       "      <td>0.400255</td>\n",
       "    </tr>\n",
       "    <tr>\n",
       "      <th>414012119</th>\n",
       "      <td>0.780434</td>\n",
       "    </tr>\n",
       "    <tr>\n",
       "      <th>278410351</th>\n",
       "      <td>0.884039</td>\n",
       "    </tr>\n",
       "    <tr>\n",
       "      <th>462013148</th>\n",
       "      <td>0.992695</td>\n",
       "    </tr>\n",
       "  </tbody>\n",
       "</table>\n",
       "<p>92 rows × 1 columns</p>\n",
       "</div>"
      ],
      "text/plain": [
       "           sentiment\n",
       "193667877  -0.498069\n",
       "243113019  -0.466476\n",
       "584335134  -0.391773\n",
       "210620812  -0.313917\n",
       "216611278  -0.309569\n",
       "...              ...\n",
       "200256782   0.341972\n",
       "39797359    0.400255\n",
       "414012119   0.780434\n",
       "278410351   0.884039\n",
       "462013148   0.992695\n",
       "\n",
       "[92 rows x 1 columns]"
      ]
     },
     "execution_count": 21,
     "metadata": {},
     "output_type": "execute_result"
    }
   ],
   "source": [
    "sent.sort_values('sentiment')"
   ]
  },
  {
   "cell_type": "code",
   "execution_count": 25,
   "id": "92ad90cf",
   "metadata": {},
   "outputs": [
    {
     "name": "stdout",
     "output_type": "stream",
     "text": [
      "Сентябрь сгорел....\n",
      "\n",
      "\n",
      "Вернуть бы тех, кого забрали небеса.Хоть на минуту, лишь увидеть лица,Чтоб посмотреть в давно забытые глаза,Сказать три слова, и отпустить их к птицам.\n",
      "\n",
      "\n"
     ]
    }
   ],
   "source": [
    "get_messages_user(193667877)"
   ]
  },
  {
   "cell_type": "code",
   "execution_count": 26,
   "id": "264b84da",
   "metadata": {},
   "outputs": [
    {
     "name": "stdout",
     "output_type": "stream",
     "text": [
      "😭😭😭😭😭😭😭😭😭😭😭😭😭😭😭😭😭😭\n",
      "\n",
      "\n"
     ]
    }
   ],
   "source": [
    "get_messages_user(243113019)"
   ]
  },
  {
   "cell_type": "code",
   "execution_count": 27,
   "id": "f3281b3c",
   "metadata": {},
   "outputs": [
    {
     "name": "stdout",
     "output_type": "stream",
     "text": [
      "Здесь должна была быть ещё одна пачка фотографий, но я лежу на газоне в Малой Голландии и мне лень\n",
      "\n",
      "\n",
      "Петербург - и этим все сказаноСтыдно признаться, но я, до сего дня, ни разу не выезжал за пределы своего, так сказать, естественного ареала обитания - Саратовской области. И когда у меня все же появилась возможность вырваться, я ни секунды не сомневался в выборе. Всего полдня в городе, а впечатлений на всю жизнь!\n",
      "\n",
      "\n",
      "Меня заставили :(\n",
      "\n",
      "\n"
     ]
    }
   ],
   "source": [
    "get_messages_user(584335134)"
   ]
  },
  {
   "cell_type": "code",
   "execution_count": 28,
   "id": "516bc0bc",
   "metadata": {},
   "outputs": [
    {
     "name": "stdout",
     "output_type": "stream",
     "text": [
      "я учу,блин!!1\n",
      "\n",
      "\n"
     ]
    }
   ],
   "source": [
    "get_messages_user(210620812)"
   ]
  },
  {
   "cell_type": "code",
   "execution_count": 29,
   "id": "56effd74",
   "metadata": {},
   "outputs": [
    {
     "name": "stdout",
     "output_type": "stream",
     "text": [
      "Моя мечта 🔥🔥🔥\n",
      "\n",
      "\n",
      "Моя самая любимая жизнь\n",
      "\n",
      "\n"
     ]
    }
   ],
   "source": [
    "get_messages_user(462013148)"
   ]
  }
 ],
 "metadata": {
  "kernelspec": {
   "display_name": "Python 3 (ipykernel)",
   "language": "python",
   "name": "python3"
  },
  "language_info": {
   "codemirror_mode": {
    "name": "ipython",
    "version": 3
   },
   "file_extension": ".py",
   "mimetype": "text/x-python",
   "name": "python",
   "nbconvert_exporter": "python",
   "pygments_lexer": "ipython3",
   "version": "3.9.13"
  }
 },
 "nbformat": 4,
 "nbformat_minor": 5
}
